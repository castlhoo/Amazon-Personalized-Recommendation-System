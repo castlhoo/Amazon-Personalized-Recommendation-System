{
 "cells": [
  {
   "cell_type": "code",
   "execution_count": 2,
   "metadata": {
    "colab": {
     "base_uri": "https://localhost:8080/",
     "height": 1000
    },
    "id": "HGfyVNIJ96V7",
    "outputId": "5a4eb89b-8030-433f-c8d8-a1b7ad43d566"
   },
   "outputs": [
    {
     "name": "stdout",
     "output_type": "stream",
     "text": [
      "Defaulting to user installation because normal site-packages is not writeable\n",
      "Requirement already satisfied: scikit-surprise in c:\\users\\ksung\\appdata\\roaming\\python\\python312\\site-packages (1.1.4)\n",
      "Requirement already satisfied: joblib>=1.2.0 in c:\\programdata\\anaconda3\\lib\\site-packages (from scikit-surprise) (1.4.2)\n",
      "Requirement already satisfied: numpy>=1.19.5 in c:\\programdata\\anaconda3\\lib\\site-packages (from scikit-surprise) (1.26.4)\n",
      "Requirement already satisfied: scipy>=1.6.0 in c:\\programdata\\anaconda3\\lib\\site-packages (from scikit-surprise) (1.13.1)\n",
      "Note: you may need to restart the kernel to use updated packages.\n"
     ]
    }
   ],
   "source": [
    "pip install scikit-surprise"
   ]
  },
  {
   "cell_type": "code",
   "execution_count": 3,
   "metadata": {},
   "outputs": [
    {
     "name": "stdout",
     "output_type": "stream",
     "text": [
      "1.1.4\n"
     ]
    }
   ],
   "source": [
    "import surprise \n",
    "\n",
    "print(surprise.__version__)"
   ]
  },
  {
   "cell_type": "markdown",
   "metadata": {
    "id": "jfJEnC8mMCBw"
   },
   "source": [
    "1. Import Data"
   ]
  },
  {
   "cell_type": "code",
   "execution_count": 115,
   "metadata": {
    "colab": {
     "base_uri": "https://localhost:8080/",
     "height": 428
    },
    "id": "BL6zoSWs7Tl5",
    "outputId": "b3729649-95ab-431d-8d82-fb9f0dbfa621"
   },
   "outputs": [
    {
     "name": "stdout",
     "output_type": "stream",
     "text": [
      "(1465, 16)\n"
     ]
    }
   ],
   "source": [
    "import os\n",
    "import pandas as pd\n",
    "csv_path = './amazon.csv'\n",
    "\n",
    "amazon_df = pd.read_csv(csv_path)\n",
    "print(amazon_df.shape)"
   ]
  },
  {
   "cell_type": "markdown",
   "metadata": {
    "id": "jCeHOhRNMF3O"
   },
   "source": [
    "2. EDA"
   ]
  },
  {
   "cell_type": "code",
   "execution_count": 116,
   "metadata": {
    "id": "TPP66CAk7yRP"
   },
   "outputs": [
    {
     "data": {
      "text/html": [
       "<div>\n",
       "<style scoped>\n",
       "    .dataframe tbody tr th:only-of-type {\n",
       "        vertical-align: middle;\n",
       "    }\n",
       "\n",
       "    .dataframe tbody tr th {\n",
       "        vertical-align: top;\n",
       "    }\n",
       "\n",
       "    .dataframe thead th {\n",
       "        text-align: right;\n",
       "    }\n",
       "</style>\n",
       "<table border=\"1\" class=\"dataframe\">\n",
       "  <thead>\n",
       "    <tr style=\"text-align: right;\">\n",
       "      <th></th>\n",
       "      <th>product_id</th>\n",
       "      <th>product_name</th>\n",
       "      <th>category</th>\n",
       "      <th>discounted_price</th>\n",
       "      <th>actual_price</th>\n",
       "      <th>discount_percentage</th>\n",
       "      <th>rating</th>\n",
       "      <th>rating_count</th>\n",
       "      <th>about_product</th>\n",
       "      <th>user_id</th>\n",
       "      <th>user_name</th>\n",
       "      <th>review_id</th>\n",
       "      <th>review_title</th>\n",
       "      <th>review_content</th>\n",
       "      <th>img_link</th>\n",
       "      <th>product_link</th>\n",
       "    </tr>\n",
       "  </thead>\n",
       "  <tbody>\n",
       "    <tr>\n",
       "      <th>0</th>\n",
       "      <td>B07JW9H4J1</td>\n",
       "      <td>Wayona Nylon Braided USB to Lightning Fast Cha...</td>\n",
       "      <td>Computers&amp;Accessories|Accessories&amp;Peripherals|...</td>\n",
       "      <td>₹399</td>\n",
       "      <td>₹1,099</td>\n",
       "      <td>64%</td>\n",
       "      <td>4.2</td>\n",
       "      <td>24,269</td>\n",
       "      <td>High Compatibility : Compatible With iPhone 12...</td>\n",
       "      <td>AG3D6O4STAQKAY2UVGEUV46KN35Q,AHMY5CWJMMK5BJRBB...</td>\n",
       "      <td>Manav,Adarsh gupta,Sundeep,S.Sayeed Ahmed,jasp...</td>\n",
       "      <td>R3HXWT0LRP0NMF,R2AJM3LFTLZHFO,R6AQJGUP6P86,R1K...</td>\n",
       "      <td>Satisfied,Charging is really fast,Value for mo...</td>\n",
       "      <td>Looks durable Charging is fine tooNo complains...</td>\n",
       "      <td>https://m.media-amazon.com/images/W/WEBP_40237...</td>\n",
       "      <td>https://www.amazon.in/Wayona-Braided-WN3LG1-Sy...</td>\n",
       "    </tr>\n",
       "    <tr>\n",
       "      <th>1</th>\n",
       "      <td>B098NS6PVG</td>\n",
       "      <td>Ambrane Unbreakable 60W / 3A Fast Charging 1.5...</td>\n",
       "      <td>Computers&amp;Accessories|Accessories&amp;Peripherals|...</td>\n",
       "      <td>₹199</td>\n",
       "      <td>₹349</td>\n",
       "      <td>43%</td>\n",
       "      <td>4.0</td>\n",
       "      <td>43,994</td>\n",
       "      <td>Compatible with all Type C enabled devices, be...</td>\n",
       "      <td>AECPFYFQVRUWC3KGNLJIOREFP5LQ,AGYYVPDD7YG7FYNBX...</td>\n",
       "      <td>ArdKn,Nirbhay kumar,Sagar Viswanathan,Asp,Plac...</td>\n",
       "      <td>RGIQEG07R9HS2,R1SMWZQ86XIN8U,R2J3Y1WL29GWDE,RY...</td>\n",
       "      <td>A Good Braided Cable for Your Type C Device,Go...</td>\n",
       "      <td>I ordered this cable to connect my phone to An...</td>\n",
       "      <td>https://m.media-amazon.com/images/W/WEBP_40237...</td>\n",
       "      <td>https://www.amazon.in/Ambrane-Unbreakable-Char...</td>\n",
       "    </tr>\n",
       "  </tbody>\n",
       "</table>\n",
       "</div>"
      ],
      "text/plain": [
       "   product_id                                       product_name  \\\n",
       "0  B07JW9H4J1  Wayona Nylon Braided USB to Lightning Fast Cha...   \n",
       "1  B098NS6PVG  Ambrane Unbreakable 60W / 3A Fast Charging 1.5...   \n",
       "\n",
       "                                            category discounted_price  \\\n",
       "0  Computers&Accessories|Accessories&Peripherals|...             ₹399   \n",
       "1  Computers&Accessories|Accessories&Peripherals|...             ₹199   \n",
       "\n",
       "  actual_price discount_percentage rating rating_count  \\\n",
       "0       ₹1,099                 64%    4.2       24,269   \n",
       "1         ₹349                 43%    4.0       43,994   \n",
       "\n",
       "                                       about_product  \\\n",
       "0  High Compatibility : Compatible With iPhone 12...   \n",
       "1  Compatible with all Type C enabled devices, be...   \n",
       "\n",
       "                                             user_id  \\\n",
       "0  AG3D6O4STAQKAY2UVGEUV46KN35Q,AHMY5CWJMMK5BJRBB...   \n",
       "1  AECPFYFQVRUWC3KGNLJIOREFP5LQ,AGYYVPDD7YG7FYNBX...   \n",
       "\n",
       "                                           user_name  \\\n",
       "0  Manav,Adarsh gupta,Sundeep,S.Sayeed Ahmed,jasp...   \n",
       "1  ArdKn,Nirbhay kumar,Sagar Viswanathan,Asp,Plac...   \n",
       "\n",
       "                                           review_id  \\\n",
       "0  R3HXWT0LRP0NMF,R2AJM3LFTLZHFO,R6AQJGUP6P86,R1K...   \n",
       "1  RGIQEG07R9HS2,R1SMWZQ86XIN8U,R2J3Y1WL29GWDE,RY...   \n",
       "\n",
       "                                        review_title  \\\n",
       "0  Satisfied,Charging is really fast,Value for mo...   \n",
       "1  A Good Braided Cable for Your Type C Device,Go...   \n",
       "\n",
       "                                      review_content  \\\n",
       "0  Looks durable Charging is fine tooNo complains...   \n",
       "1  I ordered this cable to connect my phone to An...   \n",
       "\n",
       "                                            img_link  \\\n",
       "0  https://m.media-amazon.com/images/W/WEBP_40237...   \n",
       "1  https://m.media-amazon.com/images/W/WEBP_40237...   \n",
       "\n",
       "                                        product_link  \n",
       "0  https://www.amazon.in/Wayona-Braided-WN3LG1-Sy...  \n",
       "1  https://www.amazon.in/Ambrane-Unbreakable-Char...  "
      ]
     },
     "execution_count": 116,
     "metadata": {},
     "output_type": "execute_result"
    }
   ],
   "source": [
    "amazon_df.head(2)"
   ]
  },
  {
   "cell_type": "code",
   "execution_count": 117,
   "metadata": {
    "id": "-F_hySy19oZN"
   },
   "outputs": [
    {
     "name": "stdout",
     "output_type": "stream",
     "text": [
      "<class 'pandas.core.frame.DataFrame'>\n",
      "RangeIndex: 1465 entries, 0 to 1464\n",
      "Data columns (total 16 columns):\n",
      " #   Column               Non-Null Count  Dtype \n",
      "---  ------               --------------  ----- \n",
      " 0   product_id           1465 non-null   object\n",
      " 1   product_name         1465 non-null   object\n",
      " 2   category             1465 non-null   object\n",
      " 3   discounted_price     1465 non-null   object\n",
      " 4   actual_price         1465 non-null   object\n",
      " 5   discount_percentage  1465 non-null   object\n",
      " 6   rating               1465 non-null   object\n",
      " 7   rating_count         1463 non-null   object\n",
      " 8   about_product        1465 non-null   object\n",
      " 9   user_id              1465 non-null   object\n",
      " 10  user_name            1465 non-null   object\n",
      " 11  review_id            1465 non-null   object\n",
      " 12  review_title         1465 non-null   object\n",
      " 13  review_content       1465 non-null   object\n",
      " 14  img_link             1465 non-null   object\n",
      " 15  product_link         1465 non-null   object\n",
      "dtypes: object(16)\n",
      "memory usage: 183.3+ KB\n"
     ]
    }
   ],
   "source": [
    "amazon_df.info()"
   ]
  },
  {
   "cell_type": "code",
   "execution_count": 118,
   "metadata": {
    "id": "xs-WfBod90fk"
   },
   "outputs": [
    {
     "data": {
      "text/html": [
       "<div>\n",
       "<style scoped>\n",
       "    .dataframe tbody tr th:only-of-type {\n",
       "        vertical-align: middle;\n",
       "    }\n",
       "\n",
       "    .dataframe tbody tr th {\n",
       "        vertical-align: top;\n",
       "    }\n",
       "\n",
       "    .dataframe thead th {\n",
       "        text-align: right;\n",
       "    }\n",
       "</style>\n",
       "<table border=\"1\" class=\"dataframe\">\n",
       "  <thead>\n",
       "    <tr style=\"text-align: right;\">\n",
       "      <th></th>\n",
       "      <th>product_id</th>\n",
       "      <th>product_name</th>\n",
       "      <th>category</th>\n",
       "      <th>discounted_price</th>\n",
       "      <th>actual_price</th>\n",
       "      <th>discount_percentage</th>\n",
       "      <th>rating</th>\n",
       "      <th>rating_count</th>\n",
       "      <th>about_product</th>\n",
       "      <th>user_id</th>\n",
       "      <th>user_name</th>\n",
       "      <th>review_id</th>\n",
       "      <th>review_title</th>\n",
       "      <th>review_content</th>\n",
       "      <th>img_link</th>\n",
       "      <th>product_link</th>\n",
       "    </tr>\n",
       "  </thead>\n",
       "  <tbody>\n",
       "    <tr>\n",
       "      <th>count</th>\n",
       "      <td>1465</td>\n",
       "      <td>1465</td>\n",
       "      <td>1465</td>\n",
       "      <td>1465</td>\n",
       "      <td>1465</td>\n",
       "      <td>1465</td>\n",
       "      <td>1465</td>\n",
       "      <td>1463</td>\n",
       "      <td>1465</td>\n",
       "      <td>1465</td>\n",
       "      <td>1465</td>\n",
       "      <td>1465</td>\n",
       "      <td>1465</td>\n",
       "      <td>1465</td>\n",
       "      <td>1465</td>\n",
       "      <td>1465</td>\n",
       "    </tr>\n",
       "    <tr>\n",
       "      <th>unique</th>\n",
       "      <td>1351</td>\n",
       "      <td>1337</td>\n",
       "      <td>211</td>\n",
       "      <td>550</td>\n",
       "      <td>449</td>\n",
       "      <td>92</td>\n",
       "      <td>28</td>\n",
       "      <td>1143</td>\n",
       "      <td>1293</td>\n",
       "      <td>1194</td>\n",
       "      <td>1194</td>\n",
       "      <td>1194</td>\n",
       "      <td>1194</td>\n",
       "      <td>1212</td>\n",
       "      <td>1412</td>\n",
       "      <td>1465</td>\n",
       "    </tr>\n",
       "    <tr>\n",
       "      <th>top</th>\n",
       "      <td>B07JW9H4J1</td>\n",
       "      <td>Fire-Boltt Ninja Call Pro Plus 1.83\" Smart Wat...</td>\n",
       "      <td>Computers&amp;Accessories|Accessories&amp;Peripherals|...</td>\n",
       "      <td>₹199</td>\n",
       "      <td>₹999</td>\n",
       "      <td>50%</td>\n",
       "      <td>4.1</td>\n",
       "      <td>9,378</td>\n",
       "      <td>[CHARGE &amp; SYNC FUNCTION]- This cable comes wit...</td>\n",
       "      <td>AHIKJUDTVJ4T6DV6IUGFYZ5LXMPA,AE55KTFVNXYFD5FPY...</td>\n",
       "      <td>$@|\\|TO$|-|,Sethu madhav,Akash Thakur,Burger P...</td>\n",
       "      <td>R3F4T5TRYPTMIG,R3DQIEC603E7AY,R1O4Z15FD40PV5,R...</td>\n",
       "      <td>Worked on iPhone 7 and didn’t work on XR,Good ...</td>\n",
       "      <td>I am not big on camera usage, personally. I wa...</td>\n",
       "      <td>https://m.media-amazon.com/images/I/413sCRKobN...</td>\n",
       "      <td>https://www.amazon.in/Wayona-Braided-WN3LG1-Sy...</td>\n",
       "    </tr>\n",
       "    <tr>\n",
       "      <th>freq</th>\n",
       "      <td>3</td>\n",
       "      <td>5</td>\n",
       "      <td>233</td>\n",
       "      <td>53</td>\n",
       "      <td>120</td>\n",
       "      <td>56</td>\n",
       "      <td>244</td>\n",
       "      <td>9</td>\n",
       "      <td>6</td>\n",
       "      <td>10</td>\n",
       "      <td>10</td>\n",
       "      <td>10</td>\n",
       "      <td>10</td>\n",
       "      <td>8</td>\n",
       "      <td>3</td>\n",
       "      <td>1</td>\n",
       "    </tr>\n",
       "  </tbody>\n",
       "</table>\n",
       "</div>"
      ],
      "text/plain": [
       "        product_id                                       product_name  \\\n",
       "count         1465                                               1465   \n",
       "unique        1351                                               1337   \n",
       "top     B07JW9H4J1  Fire-Boltt Ninja Call Pro Plus 1.83\" Smart Wat...   \n",
       "freq             3                                                  5   \n",
       "\n",
       "                                                 category discounted_price  \\\n",
       "count                                                1465             1465   \n",
       "unique                                                211              550   \n",
       "top     Computers&Accessories|Accessories&Peripherals|...             ₹199   \n",
       "freq                                                  233               53   \n",
       "\n",
       "       actual_price discount_percentage rating rating_count  \\\n",
       "count          1465                1465   1465         1463   \n",
       "unique          449                  92     28         1143   \n",
       "top            ₹999                 50%    4.1        9,378   \n",
       "freq            120                  56    244            9   \n",
       "\n",
       "                                            about_product  \\\n",
       "count                                                1465   \n",
       "unique                                               1293   \n",
       "top     [CHARGE & SYNC FUNCTION]- This cable comes wit...   \n",
       "freq                                                    6   \n",
       "\n",
       "                                                  user_id  \\\n",
       "count                                                1465   \n",
       "unique                                               1194   \n",
       "top     AHIKJUDTVJ4T6DV6IUGFYZ5LXMPA,AE55KTFVNXYFD5FPY...   \n",
       "freq                                                   10   \n",
       "\n",
       "                                                user_name  \\\n",
       "count                                                1465   \n",
       "unique                                               1194   \n",
       "top     $@|\\|TO$|-|,Sethu madhav,Akash Thakur,Burger P...   \n",
       "freq                                                   10   \n",
       "\n",
       "                                                review_id  \\\n",
       "count                                                1465   \n",
       "unique                                               1194   \n",
       "top     R3F4T5TRYPTMIG,R3DQIEC603E7AY,R1O4Z15FD40PV5,R...   \n",
       "freq                                                   10   \n",
       "\n",
       "                                             review_title  \\\n",
       "count                                                1465   \n",
       "unique                                               1194   \n",
       "top     Worked on iPhone 7 and didn’t work on XR,Good ...   \n",
       "freq                                                   10   \n",
       "\n",
       "                                           review_content  \\\n",
       "count                                                1465   \n",
       "unique                                               1212   \n",
       "top     I am not big on camera usage, personally. I wa...   \n",
       "freq                                                    8   \n",
       "\n",
       "                                                 img_link  \\\n",
       "count                                                1465   \n",
       "unique                                               1412   \n",
       "top     https://m.media-amazon.com/images/I/413sCRKobN...   \n",
       "freq                                                    3   \n",
       "\n",
       "                                             product_link  \n",
       "count                                                1465  \n",
       "unique                                               1465  \n",
       "top     https://www.amazon.in/Wayona-Braided-WN3LG1-Sy...  \n",
       "freq                                                    1  "
      ]
     },
     "execution_count": 118,
     "metadata": {},
     "output_type": "execute_result"
    }
   ],
   "source": [
    "amazon_df.describe()"
   ]
  },
  {
   "cell_type": "markdown",
   "metadata": {
    "id": "y_aX6iAQM3N2"
   },
   "source": [
    "2-1. Extract Data need only for ML with Matrix Completion"
   ]
  },
  {
   "cell_type": "code",
   "execution_count": 119,
   "metadata": {},
   "outputs": [],
   "source": [
    "# Matrix Completion\n",
    "from itertools import product\n",
    "\n",
    "# One userId cell has multiple userid, seperate and make dataframe\n",
    "def explode_user_ids(df):\n",
    "    df = df.copy()\n",
    "    df['user_id'] = df['user_id'].astype(str)\n",
    "    df['user_id'] = df['user_id'].str.split(',')\n",
    "    return df.explode('user_id').reset_index(drop=True)\n",
    "\n",
    "\n",
    "amazon_recommender_df = explode_user_ids(amazon_df)"
   ]
  },
  {
   "cell_type": "code",
   "execution_count": 120,
   "metadata": {},
   "outputs": [
    {
     "name": "stdout",
     "output_type": "stream",
     "text": [
      "<class 'pandas.core.frame.DataFrame'>\n",
      "RangeIndex: 11503 entries, 0 to 11502\n",
      "Data columns (total 16 columns):\n",
      " #   Column               Non-Null Count  Dtype \n",
      "---  ------               --------------  ----- \n",
      " 0   product_id           11503 non-null  object\n",
      " 1   product_name         11503 non-null  object\n",
      " 2   category             11503 non-null  object\n",
      " 3   discounted_price     11503 non-null  object\n",
      " 4   actual_price         11503 non-null  object\n",
      " 5   discount_percentage  11503 non-null  object\n",
      " 6   rating               11503 non-null  object\n",
      " 7   rating_count         11501 non-null  object\n",
      " 8   about_product        11503 non-null  object\n",
      " 9   user_id              11503 non-null  object\n",
      " 10  user_name            11503 non-null  object\n",
      " 11  review_id            11503 non-null  object\n",
      " 12  review_title         11503 non-null  object\n",
      " 13  review_content       11503 non-null  object\n",
      " 14  img_link             11503 non-null  object\n",
      " 15  product_link         11503 non-null  object\n",
      "dtypes: object(16)\n",
      "memory usage: 1.4+ MB\n"
     ]
    }
   ],
   "source": [
    "amazon_recommender_df.info()"
   ]
  },
  {
   "cell_type": "code",
   "execution_count": 121,
   "metadata": {},
   "outputs": [],
   "source": [
    "users = amazon_recommender_df['user_id'].unique()\n",
    "items = amazon_recommender_df['product_id'].unique()\n",
    "pairs = pd.DataFrame(product(users, items), columns=['user_id','product_id'])\n",
    "\n",
    "cleaned_df = amazon_recommender_df.drop_duplicates(subset=['user_id', 'product_id'])\n",
    "\n",
    "\n",
    "amazon_recomm_df = pairs.merge(\n",
    "    cleaned_df[['user_id', 'product_id', 'rating']],\n",
    "    on=['user_id', 'product_id'], \n",
    "    how='left'\n",
    ")\n",
    "\n",
    "product_map = amazon_recommender_df[['product_id','product_name']].drop_duplicates()\n",
    "amazon_recomm_df = amazon_recomm_df.merge(product_map, on = 'product_id', how = 'left')"
   ]
  },
  {
   "cell_type": "code",
   "execution_count": 122,
   "metadata": {},
   "outputs": [
    {
     "name": "stdout",
     "output_type": "stream",
     "text": [
      "                        user_id  product_id rating  \\\n",
      "0  AG3D6O4STAQKAY2UVGEUV46KN35Q  B07JW9H4J1    4.2   \n",
      "1  AG3D6O4STAQKAY2UVGEUV46KN35Q  B098NS6PVG    NaN   \n",
      "2  AG3D6O4STAQKAY2UVGEUV46KN35Q  B096MSW6CT    NaN   \n",
      "3  AG3D6O4STAQKAY2UVGEUV46KN35Q  B08HDJ86NZ    NaN   \n",
      "4  AG3D6O4STAQKAY2UVGEUV46KN35Q  B08CF3B7N1    NaN   \n",
      "5  AG3D6O4STAQKAY2UVGEUV46KN35Q  B08Y1TFSP6    NaN   \n",
      "6  AG3D6O4STAQKAY2UVGEUV46KN35Q  B08WRWPM22    NaN   \n",
      "7  AG3D6O4STAQKAY2UVGEUV46KN35Q  B08DDRGWTJ    NaN   \n",
      "8  AG3D6O4STAQKAY2UVGEUV46KN35Q  B008IFXQFU    NaN   \n",
      "9  AG3D6O4STAQKAY2UVGEUV46KN35Q  B082LZGK39    NaN   \n",
      "\n",
      "                                        product_name  \n",
      "0  Wayona Nylon Braided USB to Lightning Fast Cha...  \n",
      "1  Ambrane Unbreakable 60W / 3A Fast Charging 1.5...  \n",
      "2  Sounce Fast Phone Charging Cable & Data Sync U...  \n",
      "3  boAt Deuce USB 300 2 in 1 Type-C & Micro USB S...  \n",
      "4  Portronics Konnect L 1.2M Fast Charging 3A 8 P...  \n",
      "5  pTron Solero TB301 3A Type-C Data and Fast Cha...  \n",
      "6  boAt Micro USB 55 Tangle-free, Sturdy Micro US...  \n",
      "7             MI Usb Type-C Cable Smartphone (Black)  \n",
      "8  TP-Link USB WiFi Adapter for PC(TL-WN725N), N1...  \n",
      "9  Ambrane Unbreakable 60W / 3A Fast Charging 1.5...  \n"
     ]
    },
    {
     "data": {
      "text/plain": [
       "(12226550, 4)"
      ]
     },
     "execution_count": 122,
     "metadata": {},
     "output_type": "execute_result"
    }
   ],
   "source": [
    "print(amazon_recomm_df.head(10))\n",
    "amazon_recomm_df.shape"
   ]
  },
  {
   "cell_type": "markdown",
   "metadata": {
    "id": "nxFzCn-KM-cF"
   },
   "source": [
    "2-2. Changing Type of Data and other value about rating"
   ]
  },
  {
   "cell_type": "code",
   "execution_count": 123,
   "metadata": {},
   "outputs": [
    {
     "name": "stdout",
     "output_type": "stream",
     "text": [
      "<class 'pandas.core.frame.DataFrame'>\n",
      "RangeIndex: 12226550 entries, 0 to 12226549\n",
      "Data columns (total 4 columns):\n",
      " #   Column        Dtype \n",
      "---  ------        ----- \n",
      " 0   user_id       object\n",
      " 1   product_id    object\n",
      " 2   rating        object\n",
      " 3   product_name  object\n",
      "dtypes: object(4)\n",
      "memory usage: 373.1+ MB\n"
     ]
    }
   ],
   "source": [
    "amazon_recomm_df.info()"
   ]
  },
  {
   "cell_type": "code",
   "execution_count": 130,
   "metadata": {
    "id": "l0Lzf_1UJByp"
   },
   "outputs": [
    {
     "data": {
      "text/plain": [
       "user_id                       product_id  rating  product_name                                                                                                                                               \n",
       "AE3MSW6H3AL6F3ZGR5LCN5AHJO6A  B08L12N5H1  |       Eureka Forbes car Vac 100 Watts Powerful Suction Vacuum Cleaner with Washable HEPA Filter, 3 Accessories,Compact,Light Weight & Easy to use (Black and Red)    1\n",
       "AER2XFSWNN4LAUCJ55IY5SOMF7WA  B08L12N5H1  |       Eureka Forbes car Vac 100 Watts Powerful Suction Vacuum Cleaner with Washable HEPA Filter, 3 Accessories,Compact,Light Weight & Easy to use (Black and Red)    1\n",
       "AFLOAOURRZZZGFBF7F6IKGXRB6NQ  B08L12N5H1  |       Eureka Forbes car Vac 100 Watts Powerful Suction Vacuum Cleaner with Washable HEPA Filter, 3 Accessories,Compact,Light Weight & Easy to use (Black and Red)    1\n",
       "AG5OL5WIIPJBY25HISJLM5K2UBTQ  B08L12N5H1  |       Eureka Forbes car Vac 100 Watts Powerful Suction Vacuum Cleaner with Washable HEPA Filter, 3 Accessories,Compact,Light Weight & Easy to use (Black and Red)    1\n",
       "AGHFSIBYVYXUGSNYUDAHBGOIZ3KQ  B08L12N5H1  |       Eureka Forbes car Vac 100 Watts Powerful Suction Vacuum Cleaner with Washable HEPA Filter, 3 Accessories,Compact,Light Weight & Easy to use (Black and Red)    1\n",
       "AGNWBYEVAIII4MPQNKN3LFVOHYZQ  B08L12N5H1  |       Eureka Forbes car Vac 100 Watts Powerful Suction Vacuum Cleaner with Washable HEPA Filter, 3 Accessories,Compact,Light Weight & Easy to use (Black and Red)    1\n",
       "AGTDSNT2FKVYEPDPXAA673AIS44A  B08L12N5H1  |       Eureka Forbes car Vac 100 Watts Powerful Suction Vacuum Cleaner with Washable HEPA Filter, 3 Accessories,Compact,Light Weight & Easy to use (Black and Red)    1\n",
       "AHYH6AZT3U3U44CDW5Y563UYIIUA  B08L12N5H1  |       Eureka Forbes car Vac 100 Watts Powerful Suction Vacuum Cleaner with Washable HEPA Filter, 3 Accessories,Compact,Light Weight & Easy to use (Black and Red)    1\n",
       "Name: count, dtype: int64"
      ]
     },
     "execution_count": 130,
     "metadata": {},
     "output_type": "execute_result"
    }
   ],
   "source": [
    "import numpy as np\n",
    "amazon_recomm_df[amazon_recomm_df['rating']=='|'].value_counts()"
   ]
  },
  {
   "cell_type": "code",
   "execution_count": 131,
   "metadata": {},
   "outputs": [],
   "source": [
    "amazon_recomm_df['rating'] = amazon_recomm_df['rating'].replace('|', np.nan)\n",
    "amazon_recomm_df['rating'] = amazon_recomm_df['rating'].astype(float)"
   ]
  },
  {
   "cell_type": "code",
   "execution_count": 132,
   "metadata": {
    "id": "-T3dxEmvNXo7"
   },
   "outputs": [
    {
     "data": {
      "text/plain": [
       "12215954"
      ]
     },
     "execution_count": 132,
     "metadata": {},
     "output_type": "execute_result"
    }
   ],
   "source": [
    "amazon_recomm_df['rating'].isnull().sum() # -> 1"
   ]
  },
  {
   "cell_type": "code",
   "execution_count": 133,
   "metadata": {},
   "outputs": [
    {
     "data": {
      "text/plain": [
       "Series([], Name: count, dtype: int64)"
      ]
     },
     "execution_count": 133,
     "metadata": {},
     "output_type": "execute_result"
    }
   ],
   "source": [
    "amazon_recomm_df[amazon_recomm_df['rating']=='|'].value_counts()"
   ]
  },
  {
   "cell_type": "code",
   "execution_count": 134,
   "metadata": {
    "id": "4CYceIFUH1kW"
   },
   "outputs": [
    {
     "data": {
      "text/plain": [
       "user_id                0\n",
       "product_id             0\n",
       "rating          12215954\n",
       "product_name           0\n",
       "dtype: int64"
      ]
     },
     "execution_count": 134,
     "metadata": {},
     "output_type": "execute_result"
    }
   ],
   "source": [
    "amazon_recomm_df.isnull().sum()"
   ]
  },
  {
   "cell_type": "markdown",
   "metadata": {},
   "source": [
    "2-3. Check duplications"
   ]
  },
  {
   "cell_type": "code",
   "execution_count": 140,
   "metadata": {},
   "outputs": [
    {
     "name": "stdout",
     "output_type": "stream",
     "text": [
      "Series([], Name: count, dtype: int64)\n"
     ]
    }
   ],
   "source": [
    "print(amazon_recomm_df[amazon_recomm_df.duplicated()].value_counts())"
   ]
  },
  {
   "cell_type": "markdown",
   "metadata": {
    "id": "69hrkOVtO0Hi"
   },
   "source": [
    "2-4. Check Correlations"
   ]
  },
  {
   "cell_type": "code",
   "execution_count": 141,
   "metadata": {
    "id": "G288XyUYPAaU"
   },
   "outputs": [
    {
     "name": "stdout",
     "output_type": "stream",
     "text": [
      "        rating\n",
      "rating     1.0\n"
     ]
    }
   ],
   "source": [
    "import plotly.express as px\n",
    "corr = amazon_recomm_df.corr(numeric_only=True)\n",
    "print(corr)"
   ]
  },
  {
   "cell_type": "markdown",
   "metadata": {},
   "source": [
    "2-5. Check 'rating'"
   ]
  },
  {
   "cell_type": "code",
   "execution_count": 142,
   "metadata": {},
   "outputs": [
    {
     "data": {
      "text/plain": [
       "count    10596.000000\n",
       "mean         4.093196\n",
       "std          0.287076\n",
       "min          2.000000\n",
       "25%          3.900000\n",
       "50%          4.100000\n",
       "75%          4.300000\n",
       "max          5.000000\n",
       "Name: rating, dtype: float64"
      ]
     },
     "execution_count": 142,
     "metadata": {},
     "output_type": "execute_result"
    }
   ],
   "source": [
    "amazon_recomm_df['rating'].describe()"
   ]
  },
  {
   "cell_type": "markdown",
   "metadata": {
    "id": "mw_d6sFn8oD9"
   },
   "source": [
    "3. Recommedation with Surprise"
   ]
  },
  {
   "cell_type": "code",
   "execution_count": 143,
   "metadata": {
    "id": "QlBdEWQS8sCw"
   },
   "outputs": [
    {
     "name": "stdout",
     "output_type": "stream",
     "text": [
      "Best RMSE params: {'n_epochs': 30, 'n_factors': 50}\n"
     ]
    }
   ],
   "source": [
    "from surprise import Reader, Dataset, SVD, accuracy\n",
    "from surprise.model_selection import train_test_split, cross_validate, GridSearchCV\n",
    "\n",
    "# Data Loading\n",
    "train_df = amazon_recomm_df[amazon_recomm_df['rating'].notnull()]\n",
    "\n",
    "reader = Reader(rating_scale=(2, 5))\n",
    "data = Dataset.load_from_df(train_df[['user_id', 'product_id', 'rating']], reader)\n",
    "\n",
    "# Data Split\n",
    "trainset, testset = train_test_split(data, test_size = 0.3, random_state=0)\n",
    "\n",
    "# SVD Algorithm\n",
    "algo = SVD(random_state=0)\n",
    "\n",
    "# HyperParameter\n",
    "param_grid = {'n_epochs' : [5,10,20,30], 'n_factors' : [50,100]}\n",
    "gs = GridSearchCV(SVD, param_grid, measures=['rmse','mae'], cv = 3)\n",
    "gs.fit(data)\n",
    "\n",
    "best_algo = gs.best_estimator['rmse']\n",
    "print(\"Best RMSE params:\", gs.best_params['rmse'])\n",
    "best_algo.fit(trainset)\n",
    "\n",
    "# Cross-validate\n",
    "cross_validate(best_algo, data, measures=['RMSE','MAE'], cv = 5)\n",
    "predictions = best_algo.test(testset)"
   ]
  },
  {
   "cell_type": "code",
   "execution_count": 145,
   "metadata": {},
   "outputs": [
    {
     "name": "stdout",
     "output_type": "stream",
     "text": [
      "user: AE3O6366WGEQAANKJ76QETTUQQTQ item: B08L12N5H1 r_ui = None   est = 4.14   {'was_impossible': False}\n",
      "user: AE3O6366WGEQAANKJ76QETTUQQTQ item: B08L12N5H1 r_ui = None   est = 4.14   {'was_impossible': False}\n"
     ]
    }
   ],
   "source": [
    "uid = 'AE3O6366WGEQAANKJ76QETTUQQTQ'\n",
    "iid = 'B08L12N5H1'\n",
    "\n",
    "pred = best_algo.predict(uid, iid, verbose=True)\n",
    "print(pred)"
   ]
  },
  {
   "cell_type": "markdown",
   "metadata": {},
   "source": [
    "4. Personalized Recommendation Program"
   ]
  },
  {
   "cell_type": "code",
   "execution_count": 147,
   "metadata": {},
   "outputs": [],
   "source": [
    "def un_rating_product(user_id):\n",
    "    unrating_product = amazon_recomm_df[(amazon_recomm_df['user_id'] == user_id) & \n",
    "        (amazon_recomm_df['rating'].isnull())\n",
    "    ]['product_id'].unique().tolist()\n",
    "    return unrating_product\n",
    "\n",
    "def recomm_movie(algo, user_id, unrating_product, top_n = 10):\n",
    "    predictions = [best_algo.predict(str(user_id), str(product_id)) for product_id in unrating_product]\n",
    "\n",
    "    predictions.sort(key=lambda x: x.est, reverse=True)\n",
    "    top_predictions = predictions[:top_n]\n",
    "\n",
    "    top_pro_id = [pred.iid for pred in top_predictions]\n",
    "    top_pro_rating = [pred.est for pred in top_predictions]\n",
    "    \n",
    "    product_map = amazon_recommender_df[['product_id', 'product_name']].drop_duplicates()\n",
    "    top_pro_name = product_map[product_map['product_id'].isin(top_pro_id)].set_index('product_id').loc[top_pro_id]['product_name'].tolist()\n",
    "\n",
    "\n",
    "    top_pro = list(zip(top_pro_id, top_pro_name, top_pro_rating))\n",
    "    return top_pro\n",
    "\n",
    "def recommendation():\n",
    "    try:\n",
    "        user_id = input(\"Please input your id : \").strip()\n",
    "\n",
    "        if user_id not in amazon_recomm_df['user_id'].unique():\n",
    "            print(\"You are not our member, Please sign in!\")\n",
    "            return \n",
    "            \n",
    "        unrated_products = un_rating_product(user_id)\n",
    "\n",
    "        if not unrated_products:\n",
    "            print('You have already commented in all our products. Thank you!')\n",
    "            return \n",
    "            \n",
    "        result = recomm_movie(best_algo, user_id, unrated_products, top_n=10)\n",
    "\n",
    "        print(f'Top10 what you will love!')\n",
    "        for idx,(pid, name, rating) in enumerate(result,1):\n",
    "            print(f'{idx}, {name}, (Expected Rating:{rating:.2f})')\n",
    "\n",
    "    except KeyboardInterrupt:\n",
    "        print(\"Because of keyboardInterrupt, program will be shutting down\")\n",
    "\n",
    "    except Exception as e:\n",
    "        print(\"ERROR\", e)"
   ]
  },
  {
   "cell_type": "code",
   "execution_count": 148,
   "metadata": {},
   "outputs": [
    {
     "name": "stdin",
     "output_type": "stream",
     "text": [
      "Please input your id :  AE3O6366WGEQAANKJ76QETTUQQTQ\n"
     ]
    },
    {
     "name": "stdout",
     "output_type": "stream",
     "text": [
      "Top10 what you will love!\n",
      "1, Amazon Basics Wireless Mouse | 2.4 GHz Connection, 1600 DPI | Type - C Adapter | Upto 12 Months of Battery Life | Ambidextrous Design | Suitable for PC/Mac/Laptop, (Expected Rating:4.66)\n",
      "2, Sony Bravia 164 cm (65 inches) 4K Ultra HD Smart LED Google TV KD-65X74K (Black), (Expected Rating:4.57)\n",
      "3, Syncwire LTG to USB Cable for Fast Charging Compatible with Phone 5/ 5C/ 5S/ 6/ 6S/ 7/8/ X/XR/XS Max/ 11/12/ 13 Series and Pad Air/Mini, Pod & Other Devices (1.1 Meter, White), (Expected Rating:4.55)\n",
      "4, ESR Screen Protector Compatible with iPad Pro 11 Inch (2022/2021/2020/2018) and iPad Air 5/4 (2022/2020, 10.9 Inch), Tempered-Glass Film with Alignment Frame, Scratch Resistant, HD Clarity, 2 Pack, (Expected Rating:4.54)\n",
      "5, Belkin USB C to USB-C Fast Charging Type C Cable, 60W PD, 3.3 feet (1 meter) for Laptop, Personal Computer, Tablet, Smartphone - White, USB-IF Certified, (Expected Rating:4.53)\n",
      "6, Havells Aqua Plus 1.2 litre Double Wall Kettle / 304 Stainless Steel Inner Body / Cool touch outer body / Wider mouth/ 2 Year warranty (Black, 1500 Watt), (Expected Rating:4.53)\n",
      "7, Instant Pot Air Fryer, Vortex 2QT, Touch Control Panel, 360° EvenCrisp™ Technology, Uses 95 % less Oil, 4-in-1 Appliance: Air Fry, Roast, Bake, Reheat (Vortex 1.97Litre, Black), (Expected Rating:4.53)\n",
      "8, Sujata Dynamix DX Mixer Grinder, 900W, 3 Jars (White), (Expected Rating:4.52)\n",
      "9, Western Digital WD Green SATA 240GB Internal SSD Solid State Drive - SATA 6Gb/s 2.5 inches - WDS240G3G0A, (Expected Rating:4.48)\n",
      "10, Oratech Coffee Frother electric, milk frother electric, coffee beater, cappuccino maker, Coffee Foamer, Mocktail Mixer, Coffee Foam Maker, coffee whisker electric, Froth Maker, coffee stirrers electric, coffee frothers, Coffee Blender, (6 Month Warranty) (Multicolour), (Expected Rating:4.48)\n",
      "None\n"
     ]
    }
   ],
   "source": [
    "print(recommendation())"
   ]
  },
  {
   "cell_type": "code",
   "execution_count": 149,
   "metadata": {},
   "outputs": [
    {
     "name": "stdin",
     "output_type": "stream",
     "text": [
      "Please input your id :  AE3MSW6H3AL6F3ZGR5LCN5AHJO6A\n"
     ]
    },
    {
     "name": "stdout",
     "output_type": "stream",
     "text": [
      "Top10 what you will love!\n",
      "1, Amazon Basics Wireless Mouse | 2.4 GHz Connection, 1600 DPI | Type - C Adapter | Upto 12 Months of Battery Life | Ambidextrous Design | Suitable for PC/Mac/Laptop, (Expected Rating:4.56)\n",
      "2, Syncwire LTG to USB Cable for Fast Charging Compatible with Phone 5/ 5C/ 5S/ 6/ 6S/ 7/8/ X/XR/XS Max/ 11/12/ 13 Series and Pad Air/Mini, Pod & Other Devices (1.1 Meter, White), (Expected Rating:4.53)\n",
      "3, Instant Pot Air Fryer, Vortex 2QT, Touch Control Panel, 360° EvenCrisp™ Technology, Uses 95 % less Oil, 4-in-1 Appliance: Air Fry, Roast, Bake, Reheat (Vortex 1.97Litre, Black), (Expected Rating:4.49)\n",
      "4, Oratech Coffee Frother electric, milk frother electric, coffee beater, cappuccino maker, Coffee Foamer, Mocktail Mixer, Coffee Foam Maker, coffee whisker electric, Froth Maker, coffee stirrers electric, coffee frothers, Coffee Blender, (6 Month Warranty) (Multicolour), (Expected Rating:4.47)\n",
      "5, Sony Bravia 164 cm (65 inches) 4K Ultra HD Smart LED Google TV KD-65X74K (Black), (Expected Rating:4.42)\n",
      "6, Logitech Pebble M350 Wireless Mouse with Bluetooth or USB - Silent, Slim Computer Mouse with Quiet Click for Laptop, Notebook, PC and Mac - Graphite, (Expected Rating:4.41)\n",
      "7, Zuvexa USB Rechargeable Electric Foam Maker - Handheld Milk Wand Mixer Frother for Hot Milk, Hand Blender Coffee, Egg Beater (Black), (Expected Rating:4.41)\n",
      "8, Spigen EZ Fit Tempered Glass Screen Protector for iPhone 14 Pro Max - 2 Pack (Sensor Protection), (Expected Rating:4.41)\n",
      "9, Spigen EZ Fit Tempered Glass Screen Protector Guard for iPhone 14/13/13 Pro - 2 Pack, (Expected Rating:4.40)\n",
      "10, Logitech M331 Silent Plus Wireless Mouse, 2.4GHz with USB Nano Receiver, 1000 DPI Optical Tracking, 3 Buttons, 24 Month Life Battery, PC/Mac/Laptop - Black, (Expected Rating:4.40)\n",
      "None\n"
     ]
    }
   ],
   "source": [
    "print(recommendation())"
   ]
  },
  {
   "cell_type": "code",
   "execution_count": 150,
   "metadata": {},
   "outputs": [
    {
     "name": "stdin",
     "output_type": "stream",
     "text": [
      "Please input your id :  1\n"
     ]
    },
    {
     "name": "stdout",
     "output_type": "stream",
     "text": [
      "You are not our member, Please sign in!\n",
      "None\n"
     ]
    }
   ],
   "source": [
    "print(recommendation())"
   ]
  }
 ],
 "metadata": {
  "colab": {
   "provenance": []
  },
  "kernelspec": {
   "display_name": "Python 3 (ipykernel)",
   "language": "python",
   "name": "python3"
  },
  "language_info": {
   "codemirror_mode": {
    "name": "ipython",
    "version": 3
   },
   "file_extension": ".py",
   "mimetype": "text/x-python",
   "name": "python",
   "nbconvert_exporter": "python",
   "pygments_lexer": "ipython3",
   "version": "3.12.7"
  }
 },
 "nbformat": 4,
 "nbformat_minor": 4
}
